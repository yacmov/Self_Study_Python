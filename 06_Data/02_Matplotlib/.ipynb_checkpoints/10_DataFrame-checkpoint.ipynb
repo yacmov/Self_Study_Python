{
 "cells": [
  {
   "cell_type": "markdown",
   "id": "de1e4bf3",
   "metadata": {},
   "source": [
    "# 10. DataFrame 활용"
   ]
  },
  {
   "cell_type": "code",
   "execution_count": 2,
   "id": "c4d05b54",
   "metadata": {},
   "outputs": [],
   "source": [
    "import pandas as pd"
   ]
  },
  {
   "cell_type": "code",
   "execution_count": null,
   "id": "7170a3fe",
   "metadata": {},
   "outputs": [],
   "source": [
    "import matplotlib.pyplot as plt\n",
    "import matplotlib\n",
    "matplotlib.rcParams['font.family'] = 'Malgun Gothic'\n",
    "matplotlib.rcParams['font.size'] = 15\n",
    "matplotlib.rcParams['axes.unicode_minus'] = False"
   ]
  }
 ],
 "metadata": {
  "kernelspec": {
   "display_name": "Python 3 (ipykernel)",
   "language": "python",
   "name": "python3"
  },
  "language_info": {
   "codemirror_mode": {
    "name": "ipython",
    "version": 3
   },
   "file_extension": ".py",
   "mimetype": "text/x-python",
   "name": "python",
   "nbconvert_exporter": "python",
   "pygments_lexer": "ipython3",
   "version": "3.10.9"
  }
 },
 "nbformat": 4,
 "nbformat_minor": 5
}

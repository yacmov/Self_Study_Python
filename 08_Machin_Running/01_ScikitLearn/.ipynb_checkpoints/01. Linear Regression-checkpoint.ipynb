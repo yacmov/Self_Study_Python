{
 "cells": [
  {
   "cell_type": "markdown",
   "id": "65e5a28f",
   "metadata": {},
   "source": [
    "# 01. Linear Regression\n",
    "### 공부 시간에 따른 시험 점수"
   ]
  },
  {
   "cell_type": "code",
   "execution_count": null,
   "id": "dd6bd19e",
   "metadata": {},
   "outputs": [],
   "source": [
    "import matplotlib.pyplot as plt\n",
    "import pandas as pd"
   ]
  },
  {
   "cell_type": "code",
   "execution_count": null,
   "id": "5f211c85",
   "metadata": {},
   "outputs": [],
   "source": [
    "dataset = pd.read_csv('LinearRegressionData.csv')"
   ]
  },
  {
   "cell_type": "code",
   "execution_count": null,
   "id": "94c79eec",
   "metadata": {},
   "outputs": [],
   "source": [
    "dataset.head()"
   ]
  },
  {
   "cell_type": "code",
   "execution_count": null,
   "id": "62ba76d3",
   "metadata": {},
   "outputs": [],
   "source": [
    "X = dataset.iloc[:, :-1].values # 처음부터 마지막 컬럼 직전까지의 데이터\n",
    "y = dataset.iloc[:, -1].values # 마지막 컬럼 데이터 "
   ]
  },
  {
   "cell_type": "code",
   "execution_count": null,
   "id": "555390e5",
   "metadata": {},
   "outputs": [],
   "source": [
    "X, y"
   ]
  },
  {
   "cell_type": "code",
   "execution_count": null,
   "id": "8dcfcc69",
   "metadata": {},
   "outputs": [],
   "source": [
    "from sklearn.linear_model import LinearRegression\n",
    "reg = LinearRegression() # 겍체 생성\n",
    "reg.fit(X, y) # 학습 시키기 (모델 생성)"
   ]
  },
  {
   "cell_type": "code",
   "execution_count": null,
   "id": "6ede4122",
   "metadata": {},
   "outputs": [],
   "source": [
    "y_pred = reg.predict(X) # 대한 예측값\n",
    "y_pred"
   ]
  },
  {
   "cell_type": "code",
   "execution_count": null,
   "id": "420f7441",
   "metadata": {},
   "outputs": [],
   "source": [
    "plt.scatter(X, y, color='blue') # 산점도 그래프\n",
    "plt.plot(X, y_pred, color=\"green\") # 선 그래프\n",
    "plt.title('Score by hours') # 제목\n",
    "plt.xlabel('hours') # x축 이름\n",
    "plt.ylabel('score') # y축 이름\n",
    "plt.show()"
   ]
  },
  {
   "cell_type": "code",
   "execution_count": null,
   "id": "5f2bd0ae",
   "metadata": {},
   "outputs": [],
   "source": [
    "print('9시간 공부 했을때 예상 점수 :', reg.predict([[9]]))\n",
    "# 2차원 배열이기때문에 괄호에 조심하자"
   ]
  },
  {
   "cell_type": "code",
   "execution_count": null,
   "id": "962e49af",
   "metadata": {},
   "outputs": [],
   "source": [
    "reg.coef_ # 기울기 (m)"
   ]
  },
  {
   "cell_type": "code",
   "execution_count": null,
   "id": "83f04dd2",
   "metadata": {},
   "outputs": [],
   "source": [
    "reg.intercept_ # y 절편 (b)"
   ]
  },
  {
   "cell_type": "code",
   "execution_count": null,
   "id": "f8b7fff0",
   "metadata": {},
   "outputs": [],
   "source": [
    "# y = mx + b -> y = 10.4436x -0.2184"
   ]
  },
  {
   "cell_type": "markdown",
   "id": "aed698a7",
   "metadata": {},
   "source": [
    "### 데이터 세트 분리"
   ]
  },
  {
   "cell_type": "code",
   "execution_count": null,
   "id": "73d2b676",
   "metadata": {},
   "outputs": [],
   "source": [
    "import matplotlib.pyplot as plt\n",
    "import pandas as pd"
   ]
  },
  {
   "cell_type": "code",
   "execution_count": null,
   "id": "b574c844",
   "metadata": {},
   "outputs": [],
   "source": [
    "dataset = pd.read_csv('LinearRegressionData.csv')\n",
    "dataset"
   ]
  },
  {
   "cell_type": "code",
   "execution_count": null,
   "id": "328168b3",
   "metadata": {},
   "outputs": [],
   "source": [
    "X = dataset.iloc[:, :-1].values\n",
    "y = dataset.iloc[:, -1].values"
   ]
  },
  {
   "cell_type": "code",
   "execution_count": null,
   "id": "e088c560",
   "metadata": {},
   "outputs": [],
   "source": [
    "from sklearn.model_selection import train_test_split\n",
    "X_train, X_test, y_train, y_test = train_test_split(X, y, test_size=0.2, random_state=0) # 훈련세트를 80, 테스트세트를 20으로 설정"
   ]
  },
  {
   "cell_type": "code",
   "execution_count": null,
   "id": "ba977299",
   "metadata": {},
   "outputs": [],
   "source": [
    "X, len(X) # 전체 데이터 X, 개수"
   ]
  },
  {
   "cell_type": "code",
   "execution_count": null,
   "id": "7677932e",
   "metadata": {},
   "outputs": [],
   "source": [
    "X_train, len(X_train) # 훈련 세트 X, 개수"
   ]
  },
  {
   "cell_type": "code",
   "execution_count": null,
   "id": "62920e46",
   "metadata": {},
   "outputs": [],
   "source": [
    "X_test, len(X_test) # 테스트 세트 X, 개수 "
   ]
  },
  {
   "cell_type": "code",
   "execution_count": null,
   "id": "d5b7a102",
   "metadata": {},
   "outputs": [],
   "source": []
  },
  {
   "cell_type": "code",
   "execution_count": null,
   "id": "0999ee89",
   "metadata": {},
   "outputs": [],
   "source": []
  },
  {
   "cell_type": "code",
   "execution_count": null,
   "id": "60deb609",
   "metadata": {},
   "outputs": [],
   "source": []
  },
  {
   "cell_type": "code",
   "execution_count": null,
   "id": "5b9609b0",
   "metadata": {},
   "outputs": [],
   "source": []
  },
  {
   "cell_type": "code",
   "execution_count": null,
   "id": "4344e052",
   "metadata": {},
   "outputs": [],
   "source": []
  },
  {
   "cell_type": "code",
   "execution_count": null,
   "id": "498e1d10",
   "metadata": {},
   "outputs": [],
   "source": []
  }
 ],
 "metadata": {
  "kernelspec": {
   "display_name": "Python 3 (ipykernel)",
   "language": "python",
   "name": "python3"
  },
  "language_info": {
   "codemirror_mode": {
    "name": "ipython",
    "version": 3
   },
   "file_extension": ".py",
   "mimetype": "text/x-python",
   "name": "python",
   "nbconvert_exporter": "python",
   "pygments_lexer": "ipython3",
   "version": "3.10.9"
  }
 },
 "nbformat": 4,
 "nbformat_minor": 5
}
